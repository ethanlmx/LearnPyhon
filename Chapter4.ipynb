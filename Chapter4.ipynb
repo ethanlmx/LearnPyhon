{
 "cells": [
  {
   "cell_type": "code",
   "execution_count": 38,
   "metadata": {
    "collapsed": true
   },
   "outputs": [
    {
     "name": "stdout",
     "output_type": "stream",
     "text": [
      "alice\n",
      "david\n",
      "carolina\n",
      "Alice,that a great trick\n",
      "David,that a great trick\n",
      "Carolina,that a great trick\n"
     ]
    }
   ],
   "source": [
    "#循环打印魔术师的名字\n",
    "magicians = ['alice','david','carolina']\n",
    "for magician in magicians:\n",
    "    print(magician)\n",
    "#for循环的更多操作\n",
    "for magician in magicians:\n",
    "    print(magician.title()+\",that a great trick\")"
   ]
  },
  {
   "cell_type": "code",
   "execution_count": 39,
   "outputs": [
    {
     "name": "stdout",
     "output_type": "stream",
     "text": [
      "1\n",
      "2\n",
      "3\n",
      "4\n",
      "1\n",
      "2\n",
      "3\n",
      "4\n",
      "5\n"
     ]
    }
   ],
   "source": [
    "#range()函数：生成一系列数字\n",
    "for value in range(1,5):\n",
    "    print(value)\n",
    "for value in range(1,6):\n",
    "    print(value)"
   ],
   "metadata": {
    "collapsed": false,
    "pycharm": {
     "name": "#%%\n"
    }
   }
  },
  {
   "cell_type": "code",
   "execution_count": 40,
   "outputs": [
    {
     "name": "stdout",
     "output_type": "stream",
     "text": [
      "[1, 2, 3, 4, 5]\n"
     ]
    }
   ],
   "source": [
    "#使用range生成创建数字列表\n",
    "numbers = list(range(1,6))\n",
    "print(numbers)"
   ],
   "metadata": {
    "collapsed": false,
    "pycharm": {
     "name": "#%%\n"
    }
   }
  },
  {
   "cell_type": "code",
   "execution_count": 41,
   "outputs": [
    {
     "name": "stdout",
     "output_type": "stream",
     "text": [
      "[2, 4, 6, 8, 10]\n"
     ]
    }
   ],
   "source": [
    "#创建偶数列表\n",
    "#range（2，11，2）从2开始每次加2一直加到11\n",
    "even_number = list(range(2,11,2))\n",
    "print(even_number)"
   ],
   "metadata": {
    "collapsed": false,
    "pycharm": {
     "name": "#%%\n"
    }
   }
  },
  {
   "cell_type": "code",
   "execution_count": 42,
   "outputs": [
    {
     "name": "stdout",
     "output_type": "stream",
     "text": [
      "[1, 4, 9, 16, 25, 36, 49, 64, 81, 100]\n"
     ]
    }
   ],
   "source": [
    "squares = []\n",
    "for value in range(1,11):\n",
    "    square = value**2\n",
    "    squares.append(square)\n",
    "print(squares)"
   ],
   "metadata": {
    "collapsed": false,
    "pycharm": {
     "name": "#%%\n"
    }
   }
  },
  {
   "cell_type": "code",
   "execution_count": 43,
   "outputs": [
    {
     "name": "stdout",
     "output_type": "stream",
     "text": [
      "0\n",
      "9\n",
      "45\n"
     ]
    }
   ],
   "source": [
    "#对数字进行简单统计\n",
    "digits = [1,2,3,4,5,6,7,8,9,0]\n",
    "print(min(digits))\n",
    "print(max(digits))\n",
    "print(sum(digits))"
   ],
   "metadata": {
    "collapsed": false,
    "pycharm": {
     "name": "#%%\n"
    }
   }
  },
  {
   "cell_type": "code",
   "execution_count": 44,
   "outputs": [
    {
     "name": "stdout",
     "output_type": "stream",
     "text": [
      "['charles', 'martina', 'micheal']\n",
      "['martina', 'micheal', 'florence']\n",
      "['charles', 'martina', 'micheal', 'florence']\n",
      "['martina', 'micheal', 'florence', 'eli']\n"
     ]
    }
   ],
   "source": [
    "#切片\n",
    "#运动员列表\n",
    "players = ['charles','martina','micheal','florence','eli']\n",
    "#打印列表的一个切片，其中包含三名队员。输出也是一个列表，包含前三名队员\n",
    "print(players[0:3])\n",
    "#如果提取第2-4个元素，可将起始索引指定为1，将终止索引指定为4\n",
    "print(players[1:4])\n",
    "#如果没有指定第一个索引，Python将从列表开头开始\n",
    "print(players[0:4])\n",
    "#如果没有指定最后一个索引，Python将提取到最后一个元素\n",
    "print(players[1:])"
   ],
   "metadata": {
    "collapsed": false,
    "pycharm": {
     "name": "#%%\n"
    }
   }
  },
  {
   "cell_type": "code",
   "execution_count": 45,
   "outputs": [
    {
     "name": "stdout",
     "output_type": "stream",
     "text": [
      "['micheal', 'florence', 'eli']\n"
     ]
    }
   ],
   "source": [
    "players = ['charles','martina','micheal','florence','eli']\n",
    "#输出后三名运动员\n",
    "print(players[-3:])"
   ],
   "metadata": {
    "collapsed": false,
    "pycharm": {
     "name": "#%%\n"
    }
   }
  },
  {
   "cell_type": "code",
   "execution_count": 46,
   "outputs": [
    {
     "name": "stdout",
     "output_type": "stream",
     "text": [
      "Here are the first three player on my team:\n",
      "Charles\n",
      "Martina\n",
      "Micheal\n"
     ]
    }
   ],
   "source": [
    "#遍历切片\n",
    "players = ['charles','martina','micheal','florence','eli']\n",
    "print(\"Here are the first three player on my team:\")\n",
    "for player in players[0:3]:\n",
    "    print(player.title())"
   ],
   "metadata": {
    "collapsed": false,
    "pycharm": {
     "name": "#%%\n"
    }
   }
  },
  {
   "cell_type": "code",
   "execution_count": 47,
   "outputs": [
    {
     "name": "stdout",
     "output_type": "stream",
     "text": [
      "my foods are:\n",
      "['pizza', 'falafel', 'carrot cake']\n",
      "/n my friends foods are:\n",
      "['pizza', 'falafel', 'carrot cake']\n"
     ]
    }
   ],
   "source": [
    "#复制列表\n",
    "my_fooeds = ['pizza','falafel','carrot cake'];\n",
    "friend_foods = my_fooeds[:]\n",
    "print(\"my foods are:\")\n",
    "print(my_fooeds)\n",
    "print('/n my friends foods are:')\n",
    "print(friend_foods)"
   ],
   "metadata": {
    "collapsed": false,
    "pycharm": {
     "name": "#%%\n"
    }
   }
  },
  {
   "cell_type": "code",
   "execution_count": 48,
   "outputs": [
    {
     "name": "stdout",
     "output_type": "stream",
     "text": [
      "200\n",
      "50\n"
     ]
    }
   ],
   "source": [
    "#元祖\n",
    "dimensions = (200,50)\n",
    "print(dimensions[0])\n",
    "print(dimensions[1])\n",
    "\n",
    "#元组不可修改，赋值，可重新定义"
   ],
   "metadata": {
    "collapsed": false,
    "pycharm": {
     "name": "#%%\n"
    }
   }
  }
 ],
 "metadata": {
  "kernelspec": {
   "display_name": "Python 3",
   "language": "python",
   "name": "python3"
  },
  "language_info": {
   "codemirror_mode": {
    "name": "ipython",
    "version": 2
   },
   "file_extension": ".py",
   "mimetype": "text/x-python",
   "name": "python",
   "nbconvert_exporter": "python",
   "pygments_lexer": "ipython2",
   "version": "2.7.6"
  }
 },
 "nbformat": 4,
 "nbformat_minor": 0
}